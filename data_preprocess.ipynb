{
 "cells": [
  {
   "cell_type": "code",
   "execution_count": 1,
   "id": "dbfadf00-8771-4a60-ab0b-701f44b09e0a",
   "metadata": {},
   "outputs": [
    {
     "name": "stdout",
     "output_type": "stream",
     "text": [
      "1 Physical GPUs, 1 Logical GPUs\n"
     ]
    }
   ],
   "source": [
    "import tensorflow as tf\n",
    "gpus = tf.config.experimental.list_physical_devices('GPU')\n",
    "\n",
    "if gpus:\n",
    "    try:\n",
    "        for gpu in gpus:\n",
    "            tf.config.experimental.set_virtual_device_configuration(\n",
    "                gpu,\n",
    "                [tf.config.experimental.VirtualDeviceConfiguration(memory_limit=3072)]) \n",
    "        logical_gpus = tf.config.experimental.list_logical_devices('GPU')\n",
    "        print(len(gpus), \"Physical GPUs,\", len(logical_gpus), \"Logical GPUs\")\n",
    "    except RuntimeError as e:\n",
    "        print(e)"
   ]
  },
  {
   "cell_type": "code",
   "execution_count": 1,
   "id": "d09172b3-7aca-4fe2-8a2a-cfed899fe0d9",
   "metadata": {},
   "outputs": [],
   "source": [
    "import os\n",
    "import json\n",
    "import pandas as pd"
   ]
  },
  {
   "cell_type": "code",
   "execution_count": 2,
   "id": "e6c1b56e-41ad-43cc-8a42-1ca55055c1a8",
   "metadata": {},
   "outputs": [],
   "source": [
    "base_dir = r'C:\\Users\\UTKARSH\\Desktop\\visual intelligence'\n",
    "data_dir = r'C:\\Users\\UTKARSH\\Desktop\\visual intelligence\\data'\n",
    "models_dir = r'C:\\Users\\UTKARSH\\Desktop\\visual intelligence\\models'\n",
    "pre_processed_data_dir = r'C:\\Users\\UTKARSH\\Desktop\\visual intelligence\\pre_processed_data'"
   ]
  },
  {
   "cell_type": "code",
   "execution_count": 4,
   "id": "9ce0c77e-b19e-49b0-9d98-3c506978ab41",
   "metadata": {},
   "outputs": [
    {
     "data": {
      "text/html": [
       "<div>\n",
       "<style scoped>\n",
       "    .dataframe tbody tr th:only-of-type {\n",
       "        vertical-align: middle;\n",
       "    }\n",
       "\n",
       "    .dataframe tbody tr th {\n",
       "        vertical-align: top;\n",
       "    }\n",
       "\n",
       "    .dataframe thead th {\n",
       "        text-align: right;\n",
       "    }\n",
       "</style>\n",
       "<table border=\"1\" class=\"dataframe\">\n",
       "  <thead>\n",
       "    <tr style=\"text-align: right;\">\n",
       "      <th></th>\n",
       "      <th>image</th>\n",
       "      <th>caption</th>\n",
       "    </tr>\n",
       "  </thead>\n",
       "  <tbody>\n",
       "    <tr>\n",
       "      <th>0</th>\n",
       "      <td>000000203564.jpg</td>\n",
       "      <td>A bicycle replica with a clock as the front wh...</td>\n",
       "    </tr>\n",
       "    <tr>\n",
       "      <th>1</th>\n",
       "      <td>000000322141.jpg</td>\n",
       "      <td>A room with blue walls and a white sink and door.</td>\n",
       "    </tr>\n",
       "    <tr>\n",
       "      <th>2</th>\n",
       "      <td>000000016977.jpg</td>\n",
       "      <td>A car that seems to be parked illegally behind...</td>\n",
       "    </tr>\n",
       "    <tr>\n",
       "      <th>3</th>\n",
       "      <td>000000106140.jpg</td>\n",
       "      <td>A large passenger airplane flying through the ...</td>\n",
       "    </tr>\n",
       "    <tr>\n",
       "      <th>4</th>\n",
       "      <td>000000106140.jpg</td>\n",
       "      <td>There is a GOL plane taking off in a partly cl...</td>\n",
       "    </tr>\n",
       "  </tbody>\n",
       "</table>\n",
       "</div>"
      ],
      "text/plain": [
       "              image                                            caption\n",
       "0  000000203564.jpg  A bicycle replica with a clock as the front wh...\n",
       "1  000000322141.jpg  A room with blue walls and a white sink and door.\n",
       "2  000000016977.jpg  A car that seems to be parked illegally behind...\n",
       "3  000000106140.jpg  A large passenger airplane flying through the ...\n",
       "4  000000106140.jpg  There is a GOL plane taking off in a partly cl..."
      ]
     },
     "execution_count": 4,
     "metadata": {},
     "output_type": "execute_result"
    }
   ],
   "source": [
    "# File path to the annotations JSON file\n",
    "train_annotations_file = os.path.join(data_dir,'train_captions.json')\n",
    "\n",
    "# Check if the file exists\n",
    "if not os.path.exists(train_annotations_file):\n",
    "    raise FileNotFoundError(f\"File not found: {train_annotations_file}\")\n",
    "\n",
    "# Open and load the JSON file\n",
    "with open(train_annotations_file,'r') as f:\n",
    "    data = json.load(f)\n",
    "    data = data['annotations']\n",
    "\n",
    "# Prepare image-caption pairs\n",
    "img_cap_pairs = []\n",
    "\n",
    "for sample in data:\n",
    "    img_name = '%012d.jpg' % sample['image_id']  # Format image name\n",
    "    img_cap_pairs.append([img_name, sample['caption']])\n",
    "\n",
    "# Create train_captions.txt\n",
    "with open(os.path.join(pre_processed_data_dir, 'train_captions.txt'), 'w') as file:\n",
    "    for item in img_cap_pairs:\n",
    "        file.write(f\"{item[0]},{item[1]}\\n\")\n",
    "\n",
    "# Create a DataFrame with the image-caption pairs\n",
    "train_captions = pd.DataFrame(img_cap_pairs, columns=['image', 'caption'])\n",
    "train_captions.head()"
   ]
  },
  {
   "cell_type": "code",
   "execution_count": 5,
   "id": "c271a837-9f68-4383-9857-5af39643bf35",
   "metadata": {},
   "outputs": [
    {
     "name": "stdout",
     "output_type": "stream",
     "text": [
      "              image                                            caption\n",
      "0  000000179765.jpg  A black Honda motorcycle parked in front of a ...\n",
      "1  000000179765.jpg      A Honda motorcycle parked in a grass driveway\n",
      "2  000000190236.jpg  An office cubicle with four different types of...\n",
      "3  000000331352.jpg          A small closed toilet in a cramped space.\n",
      "4  000000517069.jpg     Two women waiting at a bench next to a street.\n"
     ]
    }
   ],
   "source": [
    "# File path to the annotations JSON file\n",
    "test_annotations_file = os.path.join(data_dir,'test_captions.json')\n",
    "\n",
    "# Check if the file exists\n",
    "if not os.path.exists(test_annotations_file):\n",
    "    raise FileNotFoundError(f\"File not found: {test_annotations_file}\")\n",
    "\n",
    "# Open and load the JSON file\n",
    "with open(test_annotations_file, 'r') as f:\n",
    "    data = json.load(f)\n",
    "    data = data['annotations']\n",
    "\n",
    "# Prepare image-caption pairs\n",
    "img_cap_pairs = []\n",
    "\n",
    "for sample in data:\n",
    "    img_name = '%012d.jpg' % sample['image_id']  # Format image name\n",
    "    img_cap_pairs.append([img_name, sample['caption']])\n",
    "\n",
    "# Create val_captions.txt\n",
    "with open(os.path.join(pre_processed_data_dir, 'test_captions.txt'), 'w') as file:\n",
    "    for item in img_cap_pairs:\n",
    "        file.write(f\"{item[0]},{item[1]}\\n\")\n",
    "\n",
    "# Create a DataFrame with the image-caption pairs\n",
    "test_captions = pd.DataFrame(img_cap_pairs, columns=['image', 'caption'])\n",
    "\n",
    "print(test_captions.head())"
   ]
  },
  {
   "cell_type": "code",
   "execution_count": null,
   "id": "6842062d-247c-4d33-9054-245c62c49e3a",
   "metadata": {},
   "outputs": [],
   "source": []
  }
 ],
 "metadata": {
  "kernelspec": {
   "display_name": "Python 3 (ipykernel)",
   "language": "python",
   "name": "python3"
  },
  "language_info": {
   "codemirror_mode": {
    "name": "ipython",
    "version": 3
   },
   "file_extension": ".py",
   "mimetype": "text/x-python",
   "name": "python",
   "nbconvert_exporter": "python",
   "pygments_lexer": "ipython3",
   "version": "3.10.14"
  }
 },
 "nbformat": 4,
 "nbformat_minor": 5
}
